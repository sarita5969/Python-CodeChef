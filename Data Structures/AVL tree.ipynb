{
 "cells": [
  {
   "cell_type": "code",
   "execution_count": 1,
   "metadata": {},
   "outputs": [],
   "source": [
    "class Node(object):\n",
    "    def __init__(self, data):\n",
    "        self.data = data\n",
    "        self.leftChild = None\n",
    "        self.rightChild = None\n",
    "        self.height = 0"
   ]
  },
  {
   "cell_type": "code",
   "execution_count": 2,
   "metadata": {},
   "outputs": [],
   "source": [
    "class AVL(object):\n",
    "    def __init__(self):\n",
    "        self.root = None\n",
    "        \n",
    "    def insert(self, data):\n",
    "        self.root = self.insertNode(data, self.root)\n",
    "        \n",
    "    def remove(self, data):\n",
    "        if self.root:\n",
    "            self.root = self.removeNode(data, self.root)\n",
    "        \n",
    "    def insertNode(self, data, node):\n",
    "        if not node:\n",
    "            return Node(data)\n",
    "        if data < node.data:\n",
    "            node.leftChild = self.insertNode(data, node.leftChild)\n",
    "        else:\n",
    "            node.rightChild = self.insertNode(data, node.rightChild)\n",
    "        \n",
    "        node.height = max(self.calcHeight(node.leftChild), self.calcHeight(node.rightChild)) + 1\n",
    "        \n",
    "        return self.settleViolation(data, node)\n",
    "    \n",
    "    def settleViolation(self, data, node):\n",
    "        balance = self.calcBalance(node)\n",
    "        \n",
    "        # case 1 --> left left heavy situation\n",
    "        if balance > 1 and data < node.leftChild.data:\n",
    "            print(\"left left heavy situation...\")\n",
    "            return self.rotateRight(node)\n",
    "        \n",
    "        # case 2 -->\n",
    "        if balance < -1 and data > node.rightChild.data:\n",
    "            print(\"right right heavy situation...\")\n",
    "            return self.rotateLeft(node)\n",
    "        \n",
    "        # case 3\n",
    "        if balance > 1 and data > node.leftChild.data:\n",
    "            print(\"left right heavy situation\")\n",
    "            node.leftChild = self.rotateLeft(node.leftChild)\n",
    "            return self.rotateRight(node)\n",
    "        \n",
    "        # case 4\n",
    "        if balance < -1 and data < node.rightChild.data:\n",
    "            print(\"right left heavy situation\")\n",
    "            node.rightChild = self.rotateRight(node.rightChild)\n",
    "            return self.rotateLeft(node)\n",
    "        return node\n",
    "            \n",
    "        \n",
    "        \n",
    "    def calcHeight(self, node):\n",
    "        if not node:\n",
    "            return -1\n",
    "        return node.height\n",
    "    \n",
    "    # if it returns value > 1, it means it is a left heavy tree --> right rotation\n",
    "    # if it returns value < -1, it means it is a right heavy tree --> left rotation\n",
    "    def calcBalance(self, node):\n",
    "        if not node:\n",
    "            return 0\n",
    "        return self.calcHeight(node.leftChild) - self.calcHeight(node.rightChild)\n",
    "    \n",
    "    def traversalInorder(self, node):\n",
    "        if node.leftChild:\n",
    "            self.traversalInorder(node.leftChild)\n",
    "        print(node.data)\n",
    "        if node.rightChild:\n",
    "            self.traversalInorder(node.rightChild)\n",
    "            \n",
    "    def traverse(self):\n",
    "        if self.root:\n",
    "            self.traversalInorder(self.root)\n",
    "    \n",
    "    def rotateRight(self, node):\n",
    "        print(\"Rotating to the right on node\", node.data)\n",
    "        tempLeftChild = node.leftChild\n",
    "        t = tempLeftChild.rightChild\n",
    "        \n",
    "        tempLeftChild.rightChild = node\n",
    "        node.leftChild = t\n",
    "        \n",
    "        node.height = max(self.calcHeight(node.leftChild), self.calcHeight(node.rightChild)) + 1\n",
    "        tempLeftChild.height = max(self.calcHeight(tempLeftChild.leftChild), self.calcHeight(tempLeftChild.rightChild)) + 1\n",
    "        \n",
    "        return tempLeftChild\n",
    "    \n",
    "    def rotateLeft(self, node):\n",
    "        print(\"Rotating to the left on node\", node.data)\n",
    "        tempRightChild = node.rightChild\n",
    "        t =tempRightChild.leftChild\n",
    "        \n",
    "        tempRightChild.leftChild = node\n",
    "        node.rightChild = t\n",
    "        \n",
    "        node.height = max(self.calcHeight(node.leftChild), self.calcHeight(node.rightChild)) + 1\n",
    "        tempRightChild.height = max(self.calcHeight(tempRightChild.leftChild), self.calcHeight(tempRightChild.rightChild)) + 1\n",
    "        \n",
    "        return tempRightChild\n",
    "    \n",
    "    def removeNode(self, data, node):\n",
    "        if not node:\n",
    "            return node\n",
    "        if data < node.data:\n",
    "            node.leftChild = self.removeNode(data, node.leftChild)\n",
    "        elif data > node.data:\n",
    "            node.rightChild = self.removeNode(data, node.rightChild)\n",
    "        else:\n",
    "            if not node.leftChild and not node.rightChild:\n",
    "                print(\"removing leaf node...\")\n",
    "                del node\n",
    "                return None\n",
    "            if not node.leftChild:\n",
    "                print(\"removing node with right child...\")\n",
    "                tempNode = node.rightChild\n",
    "                del node\n",
    "                return tempNode\n",
    "            elif not node.rightChild:\n",
    "                print(\"removing node with left child...\")\n",
    "                tempNode = node.leftChild\n",
    "                del node\n",
    "                return tempNode\n",
    "            print(\"removing node with two children\")\n",
    "            tempNode = self.getPredecessor(node.leftChild)\n",
    "            node.data = tempNode.data\n",
    "            node.leftChild = self.removeNode(tempNode.data, node.leftChild)\n",
    "            \n",
    "        if not node:\n",
    "            return node # the tree had just a single node\n",
    "        \n",
    "        self.height = max(self.calcHeight(node.leftChild), self.calcHeight(node.rightChild)) + 1\n",
    "        balance = self.calcBalance(node)\n",
    "        \n",
    "        # doubly left heavy situation\n",
    "        if balance > 1 and self.calcBalance(node.leftChild) >= 0:\n",
    "            return self.rotateRight(node)\n",
    "        \n",
    "        # left right case\n",
    "        if balance > 1 and self.calcBalance(node.leftChild) < 0:\n",
    "            node.leftChild = self.rotateLeft(node.leftChild)\n",
    "            return self.rotateRight(node)\n",
    "        \n",
    "        # right right case\n",
    "        if balance < -1 and self.calcBalance(node.rightChild) <=0:\n",
    "            return rotateLeft(node)\n",
    "        \n",
    "        # right left case\n",
    "        if balance < -1 and self.calcBalance(node.rightChild) > 0:\n",
    "            node.rightChild = self.rotateRight(node.rightChild)\n",
    "            return self.rotateLeft(node)\n",
    "        \n",
    "        return node\n",
    "    \n",
    "    def getPredecessor(self, node):\n",
    "        if node.rightChild:\n",
    "            return self.getPredecessor(node.rightChild)\n",
    "        return node"
   ]
  },
  {
   "cell_type": "code",
   "execution_count": 3,
   "metadata": {},
   "outputs": [],
   "source": [
    "avl = AVL()"
   ]
  },
  {
   "cell_type": "code",
   "execution_count": 4,
   "metadata": {},
   "outputs": [
    {
     "data": {
      "text/plain": [
       "'\\ncase --> 1\\nright right heavy situation...\\nRotating to the left on node 10\\n10\\n20\\n30\\n'"
      ]
     },
     "execution_count": 4,
     "metadata": {},
     "output_type": "execute_result"
    }
   ],
   "source": [
    "\"\"\"\n",
    "avl.insert(10)\n",
    "avl.insert(20)\n",
    "avl.insert(30)\n",
    "avl.traverse()\n",
    "\"\"\"\n",
    "\n",
    "\"\"\"\n",
    "case --> 1\n",
    "right right heavy situation...\n",
    "Rotating to the left on node 10\n",
    "10\n",
    "20\n",
    "30\n",
    "\"\"\""
   ]
  },
  {
   "cell_type": "code",
   "execution_count": 5,
   "metadata": {},
   "outputs": [
    {
     "data": {
      "text/plain": [
       "'\\ncase --> 2\\nleft left heavy situation...\\nRotating to the right on node 30\\n10\\n20\\n30\\n'"
      ]
     },
     "execution_count": 5,
     "metadata": {},
     "output_type": "execute_result"
    }
   ],
   "source": [
    "\"\"\"\n",
    "avl.insert(30)\n",
    "avl.insert(20)\n",
    "avl.insert(10)\n",
    "avl.traverse()\n",
    "\"\"\"\n",
    "\n",
    "\"\"\"\n",
    "case --> 2\n",
    "left left heavy situation...\n",
    "Rotating to the right on node 30\n",
    "10\n",
    "20\n",
    "30\n",
    "\"\"\""
   ]
  },
  {
   "cell_type": "code",
   "execution_count": 6,
   "metadata": {},
   "outputs": [
    {
     "data": {
      "text/plain": [
       "'\\nright left heavy situation\\nRotating to the right on node 30\\nRotating to the left on node 10\\n10\\n20\\n30\\n'"
      ]
     },
     "execution_count": 6,
     "metadata": {},
     "output_type": "execute_result"
    }
   ],
   "source": [
    "\"\"\"\n",
    "avl.insert(10)\n",
    "avl.insert(30)\n",
    "avl.insert(20)\n",
    "avl.traverse()\n",
    "\"\"\"\n",
    "\n",
    "\"\"\"\n",
    "right left heavy situation\n",
    "Rotating to the right on node 30\n",
    "Rotating to the left on node 10\n",
    "10\n",
    "20\n",
    "30\n",
    "\"\"\""
   ]
  },
  {
   "cell_type": "code",
   "execution_count": 7,
   "metadata": {},
   "outputs": [
    {
     "data": {
      "text/plain": [
       "'\\nleft right heavy situation\\nRotating to the left on node 10\\nRotating to the right on node 30\\n10\\n20\\n30\\n'"
      ]
     },
     "execution_count": 7,
     "metadata": {},
     "output_type": "execute_result"
    }
   ],
   "source": [
    "\"\"\"\n",
    "avl.insert(30)\n",
    "avl.insert(10)\n",
    "avl.insert(20)\n",
    "avl.traverse()\n",
    "\"\"\"\n",
    "\n",
    "\"\"\"\n",
    "left right heavy situation\n",
    "Rotating to the left on node 10\n",
    "Rotating to the right on node 30\n",
    "10\n",
    "20\n",
    "30\n",
    "\"\"\""
   ]
  },
  {
   "cell_type": "code",
   "execution_count": 8,
   "metadata": {},
   "outputs": [
    {
     "data": {
      "text/plain": [
       "'\\nright right heavy situation...\\nRotating to the left on node 1\\nright right heavy situation...\\nRotating to the left on node 3\\nright right heavy situation...\\nRotating to the left on node 2\\n1\\n2\\n3\\n4\\n5\\n6\\n'"
      ]
     },
     "execution_count": 8,
     "metadata": {},
     "output_type": "execute_result"
    }
   ],
   "source": [
    "\"\"\"\n",
    "avl.insert(1)\n",
    "avl.insert(2)\n",
    "avl.insert(3)\n",
    "avl.insert(4)\n",
    "avl.insert(5)\n",
    "avl.insert(6)\n",
    "avl.traverse()\n",
    "\"\"\"\n",
    "\n",
    "\"\"\"\n",
    "right right heavy situation...\n",
    "Rotating to the left on node 1\n",
    "right right heavy situation...\n",
    "Rotating to the left on node 3\n",
    "right right heavy situation...\n",
    "Rotating to the left on node 2\n",
    "1\n",
    "2\n",
    "3\n",
    "4\n",
    "5\n",
    "6\n",
    "\"\"\""
   ]
  },
  {
   "cell_type": "code",
   "execution_count": 9,
   "metadata": {},
   "outputs": [
    {
     "data": {
      "text/plain": [
       "'\\nremoving node with left child...\\nremoving leaf node...\\nRotating to the right on node 20\\nRotating to the left on node 10\\n\\n10\\n15\\n20\\n'"
      ]
     },
     "execution_count": 9,
     "metadata": {},
     "output_type": "execute_result"
    }
   ],
   "source": [
    "\"\"\"\n",
    "avl.insert(10)\n",
    "avl.insert(20)\n",
    "avl.insert(5)\n",
    "avl.insert(4)\n",
    "avl.insert(15)\n",
    "print()\n",
    "avl.remove(5)\n",
    "avl.remove(4)\n",
    "print()\n",
    "avl.traverse()\n",
    "\"\"\"\n",
    "\n",
    "\"\"\"\n",
    "removing node with left child...\n",
    "removing leaf node...\n",
    "Rotating to the right on node 20\n",
    "Rotating to the left on node 10\n",
    "\n",
    "10\n",
    "15\n",
    "20\n",
    "\"\"\""
   ]
  },
  {
   "cell_type": "code",
   "execution_count": 10,
   "metadata": {},
   "outputs": [
    {
     "name": "stdout",
     "output_type": "stream",
     "text": [
      "\n",
      "removing leaf node...\n",
      "removing leaf node...\n",
      "Rotating to the left on node 5\n",
      "Rotating to the right on node 10\n",
      "\n",
      "5\n",
      "6\n",
      "10\n"
     ]
    }
   ],
   "source": [
    "avl.insert(10)\n",
    "avl.insert(20)\n",
    "avl.insert(5)\n",
    "avl.insert(6)\n",
    "avl.insert(15)\n",
    "print()\n",
    "avl.remove(15)\n",
    "avl.remove(20)\n",
    "print()\n",
    "avl.traverse()"
   ]
  },
  {
   "cell_type": "code",
   "execution_count": null,
   "metadata": {},
   "outputs": [],
   "source": []
  },
  {
   "cell_type": "code",
   "execution_count": null,
   "metadata": {},
   "outputs": [],
   "source": []
  }
 ],
 "metadata": {
  "kernelspec": {
   "display_name": "Python 3",
   "language": "python",
   "name": "python3"
  },
  "language_info": {
   "codemirror_mode": {
    "name": "ipython",
    "version": 3
   },
   "file_extension": ".py",
   "mimetype": "text/x-python",
   "name": "python",
   "nbconvert_exporter": "python",
   "pygments_lexer": "ipython3",
   "version": "3.7.7"
  }
 },
 "nbformat": 4,
 "nbformat_minor": 4
}
