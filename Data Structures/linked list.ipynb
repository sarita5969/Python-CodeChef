{
 "cells": [
  {
   "cell_type": "code",
   "execution_count": 1,
   "metadata": {},
   "outputs": [],
   "source": [
    "class Node(object):\n",
    "    \n",
    "    def __init__(self, data):\n",
    "        self.data = data\n",
    "        self.nextNode = None"
   ]
  },
  {
   "cell_type": "code",
   "execution_count": 2,
   "metadata": {},
   "outputs": [],
   "source": [
    "class LinkedList(object):\n",
    "    \n",
    "    def __init__(self):\n",
    "        self.head = None\n",
    "        self.size = 0\n",
    "        \n",
    "    # O(1) time complexity\n",
    "    def insertStart(self, data):\n",
    "        self.size = self.size + 1\n",
    "        \n",
    "        newNode = Node(data)\n",
    "        \n",
    "        if not self.head:\n",
    "            self.head = newNode\n",
    "        else:\n",
    "            newNode.nextNode = self.head\n",
    "            self.head = newNode\n",
    "            \n",
    "    # O(1) time complexity\n",
    "    def size(self):\n",
    "        return self.size\n",
    "    \n",
    "    # O(N) time complexity\n",
    "    def size2(self):\n",
    "        actualNode = self.head\n",
    "        size = 0\n",
    "        \n",
    "        while actualNode is not None:\n",
    "            size += 1\n",
    "            actualNode = actualNode.nextNode\n",
    "        return size\n",
    "    \n",
    "    # O(N) time complexity\n",
    "    def insertEnd(self, data):\n",
    "        self.size = self.size + 1\n",
    "        newNode = Node(data)\n",
    "        actualNode = self.head\n",
    "        while actualNode.nextNode is not None:\n",
    "            actualNode = actualNode.nextNode\n",
    "        actualNode.nextNode = newNode\n",
    "        \n",
    "    # O(N) time complexity\n",
    "    def traverseList(self):\n",
    "        actualNode = self.head\n",
    "        while actualNode is not None:\n",
    "            print(actualNode.data)\n",
    "            actualNode = actualNode.nextNode\n",
    "            \n",
    "    def remove(self, data):\n",
    "        if self.head is None:\n",
    "            return\n",
    "        \n",
    "        self.size = self.size - 1\n",
    "        currentNode = self.head\n",
    "        previousNode = None\n",
    "        while currentNode.data != data:\n",
    "            previousNode = currentNode\n",
    "            currentNode = currentNode.nextNode\n",
    "            \n",
    "        if previousNode is None:\n",
    "            self.head = currentNode.nextNode\n",
    "        else:\n",
    "            previousNode.nextNode = currentNode.nextNode"
   ]
  },
  {
   "cell_type": "code",
   "execution_count": 3,
   "metadata": {},
   "outputs": [],
   "source": [
    "linkedlist = LinkedList()"
   ]
  },
  {
   "cell_type": "code",
   "execution_count": 4,
   "metadata": {},
   "outputs": [
    {
     "name": "stdout",
     "output_type": "stream",
     "text": [
      "12\n"
     ]
    }
   ],
   "source": [
    "linkedlist.insertStart(12)\n",
    "linkedlist.traverseList()"
   ]
  },
  {
   "cell_type": "code",
   "execution_count": 5,
   "metadata": {},
   "outputs": [
    {
     "name": "stdout",
     "output_type": "stream",
     "text": [
      "122\n",
      "12\n"
     ]
    }
   ],
   "source": [
    "linkedlist.insertStart(122)\n",
    "linkedlist.traverseList()"
   ]
  },
  {
   "cell_type": "code",
   "execution_count": 6,
   "metadata": {},
   "outputs": [
    {
     "name": "stdout",
     "output_type": "stream",
     "text": [
      "3\n",
      "122\n",
      "12\n"
     ]
    }
   ],
   "source": [
    "linkedlist.insertStart(3)\n",
    "linkedlist.traverseList()"
   ]
  },
  {
   "cell_type": "code",
   "execution_count": 7,
   "metadata": {},
   "outputs": [
    {
     "name": "stdout",
     "output_type": "stream",
     "text": [
      "3\n",
      "122\n",
      "12\n",
      "31\n"
     ]
    }
   ],
   "source": [
    "linkedlist.insertEnd(31)\n",
    "linkedlist.traverseList()"
   ]
  },
  {
   "cell_type": "code",
   "execution_count": 8,
   "metadata": {},
   "outputs": [],
   "source": [
    "#print(linkedlist.size())"
   ]
  },
  {
   "cell_type": "code",
   "execution_count": 9,
   "metadata": {},
   "outputs": [
    {
     "name": "stdout",
     "output_type": "stream",
     "text": [
      "4\n"
     ]
    }
   ],
   "source": [
    "print(linkedlist.size2())"
   ]
  },
  {
   "cell_type": "code",
   "execution_count": 10,
   "metadata": {},
   "outputs": [
    {
     "name": "stdout",
     "output_type": "stream",
     "text": [
      "3\n",
      "122\n",
      "12\n"
     ]
    }
   ],
   "source": [
    "linkedlist.remove(31)\n",
    "linkedlist.traverseList()"
   ]
  },
  {
   "cell_type": "code",
   "execution_count": 11,
   "metadata": {},
   "outputs": [
    {
     "name": "stdout",
     "output_type": "stream",
     "text": [
      "3\n",
      "12\n",
      "\n",
      "2\n"
     ]
    }
   ],
   "source": [
    "linkedlist.remove(122)\n",
    "linkedlist.traverseList()\n",
    "print()\n",
    "print(linkedlist.size2())"
   ]
  },
  {
   "cell_type": "code",
   "execution_count": 12,
   "metadata": {},
   "outputs": [
    {
     "name": "stdout",
     "output_type": "stream",
     "text": [
      "12\n",
      "\n",
      "1\n"
     ]
    }
   ],
   "source": [
    "linkedlist.remove(3)\n",
    "linkedlist.traverseList()\n",
    "print()\n",
    "print(linkedlist.size2())"
   ]
  },
  {
   "cell_type": "code",
   "execution_count": 13,
   "metadata": {},
   "outputs": [
    {
     "name": "stdout",
     "output_type": "stream",
     "text": [
      "\n",
      "0\n"
     ]
    }
   ],
   "source": [
    "linkedlist.remove(12)\n",
    "linkedlist.traverseList()\n",
    "print()\n",
    "print(linkedlist.size2())"
   ]
  },
  {
   "cell_type": "code",
   "execution_count": null,
   "metadata": {},
   "outputs": [],
   "source": []
  }
 ],
 "metadata": {
  "kernelspec": {
   "display_name": "Python 3",
   "language": "python",
   "name": "python3"
  },
  "language_info": {
   "codemirror_mode": {
    "name": "ipython",
    "version": 3
   },
   "file_extension": ".py",
   "mimetype": "text/x-python",
   "name": "python",
   "nbconvert_exporter": "python",
   "pygments_lexer": "ipython3",
   "version": "3.7.7"
  }
 },
 "nbformat": 4,
 "nbformat_minor": 4
}
